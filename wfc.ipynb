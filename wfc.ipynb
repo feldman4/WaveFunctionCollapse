{
 "cells": [
  {
   "cell_type": "code",
   "execution_count": 1,
   "metadata": {
    "collapsed": false
   },
   "outputs": [],
   "source": [
    "import wfc\n",
    "from wfc import *\n",
    "%load_ext autoreload\n",
    "%load_ext line_profiler\n",
    "%autoreload 2"
   ]
  },
  {
   "cell_type": "code",
   "execution_count": 84,
   "metadata": {
    "collapsed": false
   },
   "outputs": [],
   "source": [
    "from lasagna.imports import *\n",
    "import lasagna.io\n",
    "j = lasagna.config.j = start_client()\n",
    "dr = ((0, 1),)*100\n",
    "def show(*args, **kwargs):\n",
    "    lasagna.io.show_IJ(*args, display_ranges=dr, **kwargs)"
   ]
  },
  {
   "cell_type": "code",
   "execution_count": 129,
   "metadata": {
    "collapsed": false,
    "scrolled": false
   },
   "outputs": [
    {
     "name": "stdout",
     "output_type": "stream",
     "text": [
      "initial has 2 unique tiles\n"
     ]
    }
   ],
   "source": [
    "N = 3\n",
    "FMX = N*8\n",
    "FMY = N*8\n",
    "\n",
    "a = (1, 0, 1)\n",
    "b = (0, 1, 0)\n",
    "c = (1, 1, 1)\n",
    "d = (0, 0, 0)\n",
    "\n",
    "T = rotate((c,b,b), 4)\n",
    "X = rotate((a,b,a), 1)\n",
    "I = rotate((c,b,c), 2)\n",
    "\n",
    "\n",
    "initial = [(a,b,a), (b,a,b)]\n",
    "# initial = T\n",
    "\n",
    "# filename = 'samples/Knot.png'\n",
    "# initial = initial_from_png(filename, N);\n",
    "\n",
    "model = SimpleTiledModel(N,FMX,FMY,initial, periodic=True)\n",
    "print 'initial has %d unique tiles' % len(model.initial)\n",
    "arr = []"
   ]
  },
  {
   "cell_type": "code",
   "execution_count": 130,
   "metadata": {
    "collapsed": true
   },
   "outputs": [],
   "source": [
    "model.wave[0,0,0] = False\n",
    "model.wave[1,0,-1] = False"
   ]
  },
  {
   "cell_type": "code",
   "execution_count": 131,
   "metadata": {
    "collapsed": false,
    "scrolled": false
   },
   "outputs": [
    {
     "name": "stdout",
     "output_type": "stream",
     "text": [
      "all points collapsed\n",
      "1\n"
     ]
    },
    {
     "data": {
      "text/plain": [
       "[]"
      ]
     },
     "execution_count": 131,
     "metadata": {},
     "output_type": "execute_result"
    }
   ],
   "source": [
    "do_it()"
   ]
  },
  {
   "cell_type": "code",
   "execution_count": 13,
   "metadata": {
    "collapsed": false
   },
   "outputs": [
    {
     "name": "stdout",
     "output_type": "stream",
     "text": [
      "all points collapsed\n",
      "101\n",
      "1 loop, best of 1: 2.72 s per loop\n"
     ]
    }
   ],
   "source": [
    "%timeit -n1 -r1 do_it()"
   ]
  },
  {
   "cell_type": "code",
   "execution_count": 86,
   "metadata": {
    "collapsed": true
   },
   "outputs": [],
   "source": [
    "model.wave = np.random.choice([True, False], p=[0.9,0.1], size=model.wave.shape)\n",
    "# model.wave[0,:,:] = True"
   ]
  },
  {
   "cell_type": "code",
   "execution_count": 89,
   "metadata": {
    "collapsed": false,
    "scrolled": true
   },
   "outputs": [
    {
     "name": "stdout",
     "output_type": "stream",
     "text": [
      "propagation modified 2808 points, touched 27036\n",
      "1 loop, best of 1: 2.56 s per loop\n"
     ]
    }
   ],
   "source": [
    "%timeit -n1 -r1 model.propagate_from(zip_where(model.wave.sum(axis=0)))"
   ]
  },
  {
   "cell_type": "code",
   "execution_count": 99,
   "metadata": {
    "collapsed": false
   },
   "outputs": [
    {
     "name": "stdout",
     "output_type": "stream",
     "text": [
      "propagation modified 0 points, touched 5512\n",
      " "
     ]
    }
   ],
   "source": [
    "%prun -s cumulative model.propagate_from(zip_where(model.wave.sum(axis=0)))"
   ]
  },
  {
   "cell_type": "code",
   "execution_count": 151,
   "metadata": {
    "collapsed": false
   },
   "outputs": [
    {
     "name": "stdout",
     "output_type": "stream",
     "text": [
      "collapsed (2, 6)\n",
      "propagation deleted 18 coefficients in 11 points; touched 63 points\n",
      " "
     ]
    }
   ],
   "source": [
    "%prun -s cumulative model.update()"
   ]
  },
  {
   "cell_type": "code",
   "execution_count": 5,
   "metadata": {
    "collapsed": false,
    "scrolled": false
   },
   "outputs": [],
   "source": [
    "arr = []\n",
    "def do_it():\n",
    "    global arr\n",
    "    for i in range(30000):\n",
    "        done = model.update()\n",
    "        if done:\n",
    "            break\n",
    "#         if (i % 20) == 0:\n",
    "#             arr += [model.get_superposition()]\n",
    "    print i\n",
    "    return arr"
   ]
  },
  {
   "cell_type": "code",
   "execution_count": 221,
   "metadata": {
    "collapsed": false
   },
   "outputs": [
    {
     "data": {
      "text/plain": [
       "array([[ 1,  1,  1, ...,  1,  1,  1],\n",
       "       [ 1,  1,  1, ...,  1,  1,  1],\n",
       "       [ 1,  1,  1, ...,  1,  1,  1],\n",
       "       ..., \n",
       "       [46, 45, 45, ..., 45, 45, 46],\n",
       "       [46, 45, 45, ..., 45, 45, 46],\n",
       "       [47, 46, 46, ..., 46, 46, 47]])"
      ]
     },
     "execution_count": 221,
     "metadata": {},
     "output_type": "execute_result"
    }
   ],
   "source": [
    "model.wave.sum(axis=0)"
   ]
  },
  {
   "cell_type": "code",
   "execution_count": 128,
   "metadata": {
    "collapsed": false,
    "scrolled": true
   },
   "outputs": [
    {
     "name": "stdout",
     "output_type": "stream",
     "text": [
      "Cast float64 to float32\n",
      "Cast int64 to int16 without loss\n"
     ]
    }
   ],
   "source": [
    "show(model.get_superposition(), 'superposition')\n",
    "# show(model.get_entropy(), 'entropy')\n",
    "# show(model.wave.sum(axis=0), 'wavesum')\n",
    "show(model.initial, 'initial')"
   ]
  },
  {
   "cell_type": "code",
   "execution_count": 261,
   "metadata": {
    "collapsed": false
   },
   "outputs": [
    {
     "name": "stdout",
     "output_type": "stream",
     "text": [
      "Cast float64 to float32\n"
     ]
    }
   ],
   "source": [
    "show(arr)"
   ]
  },
  {
   "cell_type": "code",
   "execution_count": 276,
   "metadata": {
    "collapsed": true
   },
   "outputs": [
    {
     "ename": "ValueError",
     "evalue": "total size of new array must be unchanged",
     "output_type": "error",
     "traceback": [
      "\u001b[0;31m---------------------------------------------------------------------------\u001b[0m",
      "\u001b[0;31mValueError\u001b[0m                                Traceback (most recent call last)",
      "\u001b[0;32m<ipython-input-276-f1bfab8ca9b3>\u001b[0m in \u001b[0;36m<module>\u001b[0;34m()\u001b[0m\n\u001b[1;32m      1\u001b[0m \u001b[0marr\u001b[0m \u001b[0;34m=\u001b[0m \u001b[0mnp\u001b[0m\u001b[0;34m.\u001b[0m\u001b[0marray\u001b[0m\u001b[0;34m(\u001b[0m\u001b[0marr\u001b[0m\u001b[0;34m)\u001b[0m\u001b[0;34m\u001b[0m\u001b[0m\n\u001b[0;32m----> 2\u001b[0;31m \u001b[0mskimage\u001b[0m\u001b[0;34m.\u001b[0m\u001b[0mexternal\u001b[0m\u001b[0;34m.\u001b[0m\u001b[0mtifffile\u001b[0m\u001b[0;34m.\u001b[0m\u001b[0mimsave\u001b[0m\u001b[0;34m(\u001b[0m\u001b[0;34m'Knot_run5.tif'\u001b[0m\u001b[0;34m,\u001b[0m \u001b[0marr\u001b[0m\u001b[0;34m.\u001b[0m\u001b[0mastype\u001b[0m\u001b[0;34m(\u001b[0m\u001b[0mnp\u001b[0m\u001b[0;34m.\u001b[0m\u001b[0mfloat32\u001b[0m\u001b[0;34m)\u001b[0m\u001b[0;34m)\u001b[0m\u001b[0;34m\u001b[0m\u001b[0m\n\u001b[0m",
      "\u001b[0;32m//anaconda/lib/python2.7/site-packages/skimage/external/tifffile/tifffile.pyc\u001b[0m in \u001b[0;36mimsave\u001b[0;34m(filename, data, **kwargs)\u001b[0m\n\u001b[1;32m    203\u001b[0m \u001b[0;34m\u001b[0m\u001b[0m\n\u001b[1;32m    204\u001b[0m     \u001b[0;32mwith\u001b[0m \u001b[0mTiffWriter\u001b[0m\u001b[0;34m(\u001b[0m\u001b[0mfilename\u001b[0m\u001b[0;34m,\u001b[0m \u001b[0;34m**\u001b[0m\u001b[0mtifargs\u001b[0m\u001b[0;34m)\u001b[0m \u001b[0;32mas\u001b[0m \u001b[0mtif\u001b[0m\u001b[0;34m:\u001b[0m\u001b[0;34m\u001b[0m\u001b[0m\n\u001b[0;32m--> 205\u001b[0;31m         \u001b[0mtif\u001b[0m\u001b[0;34m.\u001b[0m\u001b[0msave\u001b[0m\u001b[0;34m(\u001b[0m\u001b[0mdata\u001b[0m\u001b[0;34m,\u001b[0m \u001b[0;34m**\u001b[0m\u001b[0mkwargs\u001b[0m\u001b[0;34m)\u001b[0m\u001b[0;34m\u001b[0m\u001b[0m\n\u001b[0m\u001b[1;32m    206\u001b[0m \u001b[0;34m\u001b[0m\u001b[0m\n\u001b[1;32m    207\u001b[0m \u001b[0;34m\u001b[0m\u001b[0m\n",
      "\u001b[0;32m//anaconda/lib/python2.7/site-packages/skimage/external/tifffile/tifffile.pyc\u001b[0m in \u001b[0;36msave\u001b[0;34m(self, data, photometric, planarconfig, resolution, description, volume, writeshape, compress, extratags)\u001b[0m\n\u001b[1;32m    429\u001b[0m             \u001b[0;32melse\u001b[0m\u001b[0;34m:\u001b[0m\u001b[0;34m\u001b[0m\u001b[0m\n\u001b[1;32m    430\u001b[0m                 data = data.reshape(\n\u001b[0;32m--> 431\u001b[0;31m                     (-1, 1) + shape[(-3 if volume else -2):] + (1,))\n\u001b[0m\u001b[1;32m    432\u001b[0m \u001b[0;34m\u001b[0m\u001b[0m\n\u001b[1;32m    433\u001b[0m         \u001b[0;32mif\u001b[0m \u001b[0msamplesperpixel\u001b[0m \u001b[0;34m==\u001b[0m \u001b[0;36m2\u001b[0m\u001b[0;34m:\u001b[0m\u001b[0;34m\u001b[0m\u001b[0m\n",
      "\u001b[0;31mValueError\u001b[0m: total size of new array must be unchanged"
     ]
    }
   ],
   "source": [
    "arr = np.array(arr)\n",
    "skimage.external.tifffile.imsave('Knot_run5.tif', arr.astype(np.float32))"
   ]
  },
  {
   "cell_type": "code",
   "execution_count": null,
   "metadata": {
    "collapsed": true
   },
   "outputs": [],
   "source": []
  }
 ],
 "metadata": {
  "kernelspec": {
   "display_name": "Python 2",
   "language": "python",
   "name": "python2"
  },
  "language_info": {
   "codemirror_mode": {
    "name": "ipython",
    "version": 2
   },
   "file_extension": ".py",
   "mimetype": "text/x-python",
   "name": "python",
   "nbconvert_exporter": "python",
   "pygments_lexer": "ipython2",
   "version": "2.7.9"
  }
 },
 "nbformat": 4,
 "nbformat_minor": 0
}
