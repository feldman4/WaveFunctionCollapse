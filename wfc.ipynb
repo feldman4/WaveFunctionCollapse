{
 "cells": [
  {
   "cell_type": "code",
   "execution_count": 84,
   "metadata": {
    "collapsed": false
   },
   "outputs": [
    {
     "name": "stdout",
     "output_type": "stream",
     "text": [
      "The autoreload extension is already loaded. To reload it, use:\n",
      "  %reload_ext autoreload\n"
     ]
    }
   ],
   "source": [
    "import wfc\n",
    "from wfc import *\n",
    "%load_ext autoreload\n",
    "%autoreload 2"
   ]
  },
  {
   "cell_type": "code",
   "execution_count": 3,
   "metadata": {
    "collapsed": true
   },
   "outputs": [],
   "source": [
    "from lasagna.imports import *\n",
    "import lasagna.io\n",
    "j = lasagna.config.j = start_client()\n",
    "dr = ((0, 1),)*100\n",
    "def show(*args, **kwargs):\n",
    "    lasagna.io.show_IJ(*args, display_ranges=dr, **kwargs)"
   ]
  },
  {
   "cell_type": "code",
   "execution_count": 131,
   "metadata": {
    "collapsed": false,
    "scrolled": true
   },
   "outputs": [
    {
     "name": "stdout",
     "output_type": "stream",
     "text": [
      "initial has 49 unique tiles\n"
     ]
    }
   ],
   "source": [
    "N = 3\n",
    "FMX = N*9\n",
    "FMY = N*9\n",
    "\n",
    "a = (1, 0, 1)\n",
    "b = (0, 1, 0)\n",
    "c = (1, 1, 1)\n",
    "d = (0, 0, 0)\n",
    "\n",
    "T = rotate((c,b,b), 4)\n",
    "X = rotate((a,b,a), 1)\n",
    "I = rotate((c,b,c), 2)\n",
    "\n",
    "\n",
    "initial = [(a,b,a), (b,a,b), (b,b,b), (a,a,a)]\n",
    "initial = T\n",
    "\n",
    "filename = 'samples/Knot.png'\n",
    "initial = initial_from_png(filename, N);\n",
    "\n",
    "model = SimpleTiledModel(N,FMX,FMY,initial)\n",
    "print 'initial has %d unique tiles' % len(model.initial)\n",
    "arr = []"
   ]
  },
  {
   "cell_type": "code",
   "execution_count": 86,
   "metadata": {
    "collapsed": true
   },
   "outputs": [],
   "source": [
    "model.wave = np.random.choice([True, False], p=[0.9,0.1], size=model.wave.shape)\n",
    "# model.wave[0,:,:] = True"
   ]
  },
  {
   "cell_type": "code",
   "execution_count": 89,
   "metadata": {
    "collapsed": false,
    "scrolled": false
   },
   "outputs": [
    {
     "name": "stdout",
     "output_type": "stream",
     "text": [
      "propagation modified 2808 points, touched 27036\n",
      "1 loop, best of 1: 2.56 s per loop\n"
     ]
    }
   ],
   "source": [
    "%timeit -n1 -r1 model.propagate_from(zip_where(model.wave.sum(axis=0)))"
   ]
  },
  {
   "cell_type": "code",
   "execution_count": 99,
   "metadata": {
    "collapsed": false
   },
   "outputs": [
    {
     "name": "stdout",
     "output_type": "stream",
     "text": [
      "propagation modified 0 points, touched 5512\n",
      " "
     ]
    }
   ],
   "source": [
    "%prun -s cumulative model.propagate_from(zip_where(model.wave.sum(axis=0)))"
   ]
  },
  {
   "cell_type": "code",
   "execution_count": 132,
   "metadata": {
    "collapsed": false
   },
   "outputs": [
    {
     "name": "stdout",
     "output_type": "stream",
     "text": [
      "collapsed (16, 4)\n",
      "propagation deleted 6486 coefficients in 2863 points; touched 21822 points\n",
      "collapsed (15, 6)\n",
      "propagation deleted 1256 coefficients in 304 points; touched 2369 points\n",
      "collapsed (13, 6)\n",
      "propagation deleted 191 coefficients in 78 points; touched 558 points\n",
      "collapsed (14, 4)\n",
      "propagation deleted 96 coefficients in 43 points; touched 287 points\n",
      "collapsed (15, 8)\n",
      "propagation deleted 274 coefficients in 130 points; touched 1034 points\n",
      "collapsed (13, 5)\n",
      "propagation deleted 721 coefficients in 168 points; touched 1247 points\n",
      "collapsed (13, 8)\n",
      "propagation deleted 1702 coefficients in 409 points; touched 3139 points\n",
      "collapsed (11, 10)\n",
      "propagation deleted 78 coefficients in 44 points; touched 342 points\n",
      "collapsed (14, 2)\n",
      "propagation deleted 23 coefficients in 16 points; touched 105 points\n",
      "collapsed (11, 4)\n",
      "propagation deleted 129 coefficients in 60 points; touched 443 points\n",
      "collapsed (16, 8)\n",
      "propagation deleted 207 coefficients in 101 points; touched 791 points\n",
      "collapsed (10, 7)\n",
      "propagation deleted 545 coefficients in 201 points; touched 1579 points\n",
      "collapsed (13, 3)\n",
      "propagation deleted 71 coefficients in 33 points; touched 225 points\n",
      "collapsed (10, 4)\n",
      "propagation deleted 139 coefficients in 61 points; touched 455 points\n",
      "collapsed (17, 3)\n",
      "propagation deleted 84 coefficients in 37 points; touched 240 points\n",
      "collapsed (11, 11)\n",
      "propagation deleted 191 coefficients in 75 points; touched 590 points\n",
      "collapsed (13, 2)\n",
      "propagation deleted 83 coefficients in 30 points; touched 195 points\n",
      "collapsed (12, 11)\n",
      "propagation deleted 685 coefficients in 234 points; touched 1858 points\n",
      "collapsed (13, 1)\n",
      "propagation deleted 23 coefficients in 15 points; touched 96 points\n",
      "collapsed (18, 3)\n",
      "propagation deleted 123 coefficients in 52 points; touched 381 points\n",
      "collapsed (15, 10)\n",
      "propagation deleted 383 coefficients in 163 points; touched 1290 points\n",
      "collapsed (13, 0)\n",
      "propagation deleted 348 coefficients in 80 points; touched 524 points\n",
      "collapsed (17, 7)\n",
      "propagation deleted 82 coefficients in 49 points; touched 375 points\n",
      "collapsed (9, 5)\n",
      "propagation deleted 161 coefficients in 85 points; touched 668 points\n",
      "collapsed (17, 8)\n",
      "propagation deleted 72 coefficients in 46 points; touched 362 points\n",
      "collapsed (9, 4)\n",
      "propagation deleted 173 coefficients in 80 points; touched 574 points\n",
      "collapsed (17, 2)\n",
      "propagation deleted 181 coefficients in 43 points; touched 306 points\n",
      "collapsed (18, 7)\n",
      "propagation deleted 81 coefficients in 48 points; touched 372 points\n",
      "collapsed (15, 0)\n",
      "propagation deleted 8 coefficients in 7 points; touched 22 points\n",
      "collapsed (9, 6)\n",
      "propagation deleted 408 coefficients in 159 points; touched 1234 points\n",
      "collapsed (18, 8)\n",
      "propagation deleted 385 coefficients in 159 points; touched 1248 points\n",
      "collapsed (8, 5)\n",
      "propagation deleted 161 coefficients in 85 points; touched 668 points\n",
      "collapsed (8, 4)\n",
      "propagation deleted 173 coefficients in 80 points; touched 574 points\n",
      "collapsed (18, 9)\n",
      "propagation deleted 485 coefficients in 202 points; touched 1602 points\n",
      "collapsed (8, 6)\n",
      "propagation deleted 397 coefficients in 154 points; touched 1194 points\n",
      "collapsed (7, 5)\n",
      "propagation deleted 161 coefficients in 85 points; touched 659 points\n",
      "collapsed (7, 6)\n",
      "propagation deleted 560 coefficients in 228 points; touched 1769 points\n",
      "collapsed (17, 0)\n",
      "propagation deleted 6 coefficients in 3 points; touched 12 points\n",
      "collapsed (19, 5)\n",
      "propagation deleted 1048 coefficients in 335 points; touched 2576 points\n",
      "collapsed (20, 6)\n",
      "propagation deleted 48 coefficients in 33 points; touched 237 points\n",
      "collapsed (19, 1)\n",
      "propagation deleted 7 coefficients in 7 points; touched 23 points\n",
      "collapsed (19, 8)\n",
      "propagation deleted 1815 coefficients in 487 points; touched 3579 points\n",
      "collapsed (22, 8)\n",
      "propagation deleted 58 coefficients in 25 points; touched 173 points\n",
      "collapsed (22, 7)\n",
      "propagation deleted 58 coefficients in 25 points; touched 173 points\n",
      "collapsed (22, 6)\n",
      "propagation deleted 58 coefficients in 25 points; touched 173 points\n",
      "collapsed (22, 5)\n",
      "propagation deleted 58 coefficients in 25 points; touched 173 points\n",
      "collapsed (21, 0)\n",
      "propagation deleted 2 coefficients in 2 points; touched 10 points\n",
      "collapsed (7, 4)\n",
      "propagation deleted 173 coefficients in 80 points; touched 542 points\n",
      "collapsed (22, 4)\n",
      "propagation deleted 58 coefficients in 25 points; touched 173 points\n",
      "collapsed (6, 5)\n",
      "propagation deleted 1234 coefficients in 377 points; touched 2806 points\n",
      "collapsed (5, 8)\n",
      "propagation deleted 61 coefficients in 29 points; touched 214 points\n",
      "collapsed (22, 3)\n",
      "propagation deleted 58 coefficients in 25 points; touched 164 points\n",
      "collapsed (5, 9)\n",
      "propagation deleted 547 coefficients in 111 points; touched 754 points\n",
      "collapsed (22, 2)\n",
      "propagation deleted 57 coefficients in 22 points; touched 129 points\n",
      "collapsed (5, 11)\n",
      "propagation deleted 60 coefficients in 28 points; touched 212 points\n",
      "collapsed (4, 11)\n",
      "propagation deleted 699 coefficients in 192 points; touched 1363 points\n",
      "collapsed (2, 11)\n",
      "propagation deleted 183 coefficients in 61 points; touched 402 points\n",
      "collapsed (4, 9)\n",
      "propagation deleted 120 coefficients in 53 points; touched 284 points\n",
      "collapsed (5, 12)\n",
      "propagation deleted 158 coefficients in 92 points; touched 686 points\n",
      "collapsed (11, 12)\n",
      "propagation deleted 586 coefficients in 306 points; touched 2343 points\n",
      "collapsed (3, 7)\n",
      "propagation deleted 125 coefficients in 29 points; touched 172 points\n",
      "collapsed (22, 1)\n",
      "propagation deleted 35 coefficients in 13 points; touched 76 points\n",
      "collapsed (3, 13)\n",
      "propagation deleted 496 coefficients in 173 points; touched 1296 points\n",
      "collapsed (22, 0)\n",
      "propagation deleted 141 coefficients in 25 points; touched 153 points\n",
      "collapsed (2, 14)\n",
      "propagation deleted 1373 coefficients in 408 points; touched 2821 points\n",
      "collapsed (11, 13)\n",
      "propagation deleted 486 coefficients in 253 points; touched 1903 points\n",
      "collapsed (1, 9)\n",
      "propagation deleted 11 coefficients in 7 points; touched 35 points\n",
      "collapsed (1, 8)\n",
      "propagation deleted 10 coefficients in 7 points; touched 30 points\n",
      "collapsed (4, 0)\n",
      "propagation deleted 2 coefficients in 2 points; touched 10 points\n",
      "collapsed (1, 13)\n",
      "propagation deleted 84 coefficients in 30 points; touched 186 points\n",
      "collapsed (2, 15)\n",
      "propagation deleted 81 coefficients in 34 points; touched 232 points\n",
      "collapsed (23, 0)\n",
      "propagation deleted 591 coefficients in 178 points; touched 1210 points\n",
      "collapsed (22, 12)\n",
      "propagation deleted 125 coefficients in 57 points; touched 416 points\n",
      "collapsed (1, 6)\n",
      "propagation deleted 38 coefficients in 11 points; touched 64 points\n",
      "collapsed (11, 14)\n",
      "propagation deleted 411 coefficients in 220 points; touched 1612 points\n",
      "collapsed (0, 7)\n",
      "propagation deleted 4 coefficients in 2 points; touched 5 points\n",
      "collapsed (1, 11)\n",
      "propagation deleted 6 coefficients in 6 points; touched 11 points\n",
      "collapsed (5, 17)\n",
      "propagation deleted 176 coefficients in 56 points; touched 390 points\n",
      "collapsed (0, 8)\n",
      "propagation deleted 2 coefficients in 2 points; touched 2 points\n",
      "collapsed (0, 6)\n",
      "propagation deleted 10 coefficients in 3 points; touched 15 points\n",
      "collapsed (3, 5)\n",
      "propagation deleted 75 coefficients in 24 points; touched 141 points\n",
      "collapsed (4, 17)\n",
      "propagation deleted 274 coefficients in 95 points; touched 641 points\n",
      "collapsed (1, 15)\n",
      "propagation deleted 15 coefficients in 10 points; touched 31 points\n",
      "collapsed (1, 18)\n",
      "propagation deleted 177 coefficients in 47 points; touched 332 points\n",
      "collapsed (2, 5)\n",
      "propagation deleted 56 coefficients in 20 points; touched 117 points\n",
      "collapsed (4, 19)\n",
      "propagation deleted 28 coefficients in 18 points; touched 145 points\n",
      "collapsed (5, 18)\n",
      "propagation deleted 236 coefficients in 135 points; touched 1003 points\n",
      "collapsed (3, 19)\n",
      "propagation deleted 158 coefficients in 61 points; touched 413 points\n",
      "collapsed (4, 20)\n",
      "propagation deleted 28 coefficients in 18 points; touched 145 points\n",
      "collapsed (3, 20)\n",
      "propagation deleted 177 coefficients in 68 points; touched 464 points\n",
      "collapsed (22, 13)\n",
      "propagation deleted 477 coefficients in 199 points; touched 1374 points\n",
      "collapsed (3, 21)\n",
      "propagation deleted 146 coefficients in 56 points; touched 365 points\n",
      "collapsed (0, 20)\n",
      "propagation deleted 3 coefficients in 2 points; touched 7 points\n",
      "collapsed (5, 19)\n",
      "propagation deleted 182 coefficients in 101 points; touched 728 points\n",
      "collapsed (22, 15)\n",
      "propagation deleted 57 coefficients in 25 points; touched 176 points\n",
      "collapsed (5, 20)\n",
      "propagation deleted 186 coefficients in 103 points; touched 728 points\n",
      "collapsed (0, 21)\n",
      "propagation deleted 3 coefficients in 2 points; touched 10 points\n",
      "collapsed (11, 16)\n",
      "propagation deleted 376 coefficients in 195 points; touched 1411 points\n",
      "collapsed (4, 22)\n",
      "propagation deleted 29 coefficients in 18 points; touched 133 points\n",
      "collapsed (22, 16)\n",
      "propagation deleted 63 coefficients in 23 points; touched 166 points\n",
      "collapsed (23, 15)\n",
      "propagation deleted 299 coefficients in 110 points; touched 795 points\n",
      "collapsed (3, 22)\n",
      "propagation deleted 85 coefficients in 37 points; touched 219 points\n",
      "collapsed (0, 22)\n",
      "propagation deleted 86 coefficients in 29 points; touched 145 points\n",
      "collapsed (11, 17)\n",
      "propagation deleted 269 coefficients in 148 points; touched 1039 points\n",
      "collapsed (4, 23)\n",
      "propagation deleted 19 coefficients in 14 points; touched 93 points\n",
      "collapsed (4, 24)\n",
      "propagation deleted 15 coefficients in 14 points; touched 91 points\n",
      "collapsed (3, 25)\n",
      "propagation deleted 12 coefficients in 8 points; touched 31 points\n",
      "collapsed (22, 17)\n",
      "propagation deleted 125 coefficients in 57 points; touched 419 points\n",
      "collapsed (5, 21)\n",
      "propagation deleted 354 coefficients in 189 points; touched 1357 points\n",
      "collapsed (5, 23)\n",
      "propagation deleted 49 coefficients in 28 points; touched 182 points\n",
      "collapsed (0, 24)\n",
      "propagation deleted 11 coefficients in 5 points; touched 9 points\n",
      "collapsed (11, 19)\n",
      "propagation deleted 680 coefficients in 201 points; touched 968 points\n",
      "collapsed (5, 24)\n",
      "propagation deleted 38 coefficients in 23 points; touched 145 points\n",
      "collapsed (4, 26)\n",
      "propagation deleted 160 coefficients in 91 points; touched 184 points\n",
      "collapsed (3, 4)\n",
      "propagation deleted 40 coefficients in 21 points; touched 110 points\n",
      "collapsed (0, 26)\n",
      "propagation deleted 0 coefficients in 0 points; touched 0 points\n",
      "collapsed (3, 3)\n",
      "propagation deleted 30 coefficients in 16 points; touched 76 points\n",
      "collapsed (22, 18)\n",
      "propagation deleted 191 coefficients in 49 points; touched 299 points\n",
      "collapsed (3, 2)\n",
      "propagation deleted 23 coefficients in 11 points; touched 45 points\n",
      "collapsed (12, 26)\n",
      "propagation deleted 2 coefficients in 2 points; touched 2 points\n",
      "collapsed (22, 20)\n",
      "propagation deleted 191 coefficients in 48 points; touched 304 points\n",
      "collapsed (3, 1)\n",
      "propagation deleted 8 coefficients in 7 points; touched 19 points\n",
      "collapsed (3, 0)\n",
      "propagation deleted 3 coefficients in 3 points; touched 3 points\n",
      "collapsed (24, 20)\n",
      "propagation deleted 35 coefficients in 23 points; touched 128 points\n",
      "collapsed (22, 22)\n",
      "propagation deleted 174 coefficients in 39 points; touched 216 points\n",
      "collapsed (24, 21)\n",
      "propagation deleted 15 coefficients in 12 points; touched 70 points\n",
      "collapsed (22, 24)\n",
      "propagation deleted 53 coefficients in 19 points; touched 108 points\n",
      "collapsed (22, 25)\n",
      "propagation deleted 26 coefficients in 10 points; touched 53 points\n",
      "collapsed (22, 26)\n",
      "propagation deleted 9 coefficients in 4 points; touched 18 points\n",
      "collapsed (23, 24)\n",
      "propagation deleted 24 coefficients in 11 points; touched 57 points\n",
      "collapsed (24, 23)\n",
      "propagation deleted 22 coefficients in 13 points; touched 60 points\n",
      "collapsed (24, 19)\n",
      "propagation deleted 185 coefficients in 61 points; touched 284 points\n",
      "collapsed (25, 22)\n",
      "propagation deleted 11 coefficients in 7 points; touched 35 points\n",
      "collapsed (25, 23)\n",
      "propagation deleted 11 coefficients in 8 points; touched 24 points\n",
      "collapsed (25, 21)\n",
      "propagation deleted 6 coefficients in 6 points; touched 23 points\n",
      "collapsed (25, 19)\n",
      "propagation deleted 12 coefficients in 12 points; touched 41 points\n",
      "collapsed (26, 20)\n",
      "propagation deleted 4 coefficients in 2 points; touched 4 points\n",
      "collapsed (26, 22)\n",
      "propagation deleted 3 coefficients in 2 points; touched 3 points\n",
      "collapsed (25, 14)\n",
      "propagation deleted 68 coefficients in 30 points; touched 89 points\n",
      "collapsed (26, 23)\n",
      "propagation deleted 3 coefficients in 3 points; touched 3 points\n",
      "collapsed (26, 19)\n",
      "propagation deleted 6 coefficients in 5 points; touched 6 points\n",
      "collapsed (26, 14)\n",
      "propagation deleted 14 coefficients in 14 points; touched 14 points\n",
      "collapsed (26, 0)\n",
      "propagation deleted 0 coefficients in 0 points; touched 0 points\n",
      "all points collapsed\n",
      "143\n",
      " "
     ]
    }
   ],
   "source": [
    "%prun -s cumulative do_it()"
   ]
  },
  {
   "cell_type": "code",
   "execution_count": 130,
   "metadata": {
    "collapsed": false,
    "scrolled": false
   },
   "outputs": [],
   "source": [
    "def do_it():\n",
    "    for i in range(200):\n",
    "        done = model.update()\n",
    "        if done:\n",
    "            break\n",
    "    #     arr += [model.get_superposition()]\n",
    "    print i"
   ]
  },
  {
   "cell_type": "code",
   "execution_count": 123,
   "metadata": {
    "collapsed": false
   },
   "outputs": [
    {
     "data": {
      "text/plain": [
       "array([[1, 1, 1, 1, 1, 1, 1, 1, 1, 1, 1, 1, 1, 1, 1, 1, 1, 1, 1, 1, 1, 1,\n",
       "        1, 1, 1, 1, 1],\n",
       "       [1, 1, 1, 1, 1, 1, 1, 1, 1, 1, 1, 1, 1, 1, 1, 1, 1, 1, 1, 1, 1, 1,\n",
       "        1, 1, 1, 1, 1],\n",
       "       [1, 1, 1, 1, 1, 1, 1, 1, 1, 1, 1, 1, 1, 1, 1, 1, 1, 1, 1, 1, 1, 1,\n",
       "        1, 1, 1, 1, 1],\n",
       "       [1, 1, 1, 1, 1, 1, 1, 1, 1, 1, 1, 1, 1, 1, 1, 1, 1, 1, 1, 1, 1, 1,\n",
       "        1, 1, 1, 1, 1],\n",
       "       [1, 1, 1, 1, 1, 1, 1, 1, 1, 1, 1, 1, 1, 1, 1, 1, 1, 1, 1, 1, 1, 1,\n",
       "        1, 1, 1, 1, 1],\n",
       "       [1, 1, 1, 1, 1, 1, 1, 1, 1, 1, 1, 1, 1, 1, 1, 1, 1, 1, 1, 1, 1, 1,\n",
       "        1, 1, 1, 1, 1],\n",
       "       [1, 1, 1, 1, 1, 1, 1, 1, 1, 1, 1, 1, 1, 1, 1, 1, 1, 1, 1, 1, 1, 1,\n",
       "        1, 1, 1, 1, 1],\n",
       "       [1, 1, 1, 1, 1, 1, 1, 1, 1, 1, 1, 1, 1, 1, 1, 1, 1, 1, 1, 1, 1, 1,\n",
       "        1, 1, 1, 1, 1],\n",
       "       [1, 1, 1, 1, 1, 1, 1, 1, 1, 1, 1, 1, 1, 1, 1, 1, 1, 1, 1, 1, 1, 1,\n",
       "        1, 1, 1, 1, 1],\n",
       "       [1, 1, 1, 1, 1, 1, 1, 1, 1, 1, 1, 1, 1, 1, 1, 1, 1, 1, 1, 1, 1, 1,\n",
       "        1, 1, 1, 1, 1],\n",
       "       [1, 1, 1, 1, 1, 1, 1, 1, 1, 1, 1, 1, 1, 1, 1, 1, 1, 1, 1, 1, 1, 1,\n",
       "        1, 1, 1, 1, 1],\n",
       "       [1, 1, 1, 1, 1, 1, 1, 1, 1, 1, 1, 1, 1, 1, 1, 1, 1, 1, 1, 1, 1, 1,\n",
       "        1, 1, 1, 1, 1],\n",
       "       [1, 1, 1, 1, 1, 1, 1, 1, 1, 1, 1, 1, 1, 1, 1, 1, 1, 1, 1, 1, 1, 1,\n",
       "        1, 1, 1, 1, 1],\n",
       "       [1, 1, 1, 1, 1, 1, 1, 1, 1, 1, 1, 1, 1, 1, 1, 1, 1, 1, 1, 1, 1, 1,\n",
       "        1, 1, 1, 1, 1],\n",
       "       [1, 1, 1, 1, 1, 1, 1, 1, 1, 1, 1, 1, 1, 1, 1, 1, 1, 1, 1, 1, 1, 1,\n",
       "        1, 1, 1, 1, 1],\n",
       "       [1, 1, 1, 1, 1, 1, 1, 1, 1, 1, 1, 1, 1, 1, 1, 1, 1, 1, 1, 1, 1, 1,\n",
       "        1, 1, 1, 1, 1],\n",
       "       [1, 1, 1, 1, 1, 1, 1, 1, 1, 1, 1, 1, 1, 1, 1, 1, 1, 1, 1, 1, 1, 1,\n",
       "        1, 1, 1, 1, 1],\n",
       "       [1, 1, 1, 1, 1, 1, 1, 1, 1, 1, 1, 1, 1, 1, 1, 1, 1, 1, 1, 1, 1, 1,\n",
       "        1, 1, 1, 1, 1],\n",
       "       [1, 1, 1, 1, 1, 1, 1, 1, 1, 1, 1, 1, 1, 1, 1, 1, 1, 1, 1, 1, 1, 1,\n",
       "        1, 1, 1, 1, 1],\n",
       "       [1, 1, 1, 1, 1, 1, 1, 1, 1, 1, 1, 1, 1, 1, 1, 1, 1, 1, 1, 1, 1, 1,\n",
       "        1, 1, 1, 1, 1],\n",
       "       [1, 1, 1, 1, 1, 1, 1, 1, 1, 1, 1, 1, 1, 1, 1, 1, 1, 1, 1, 1, 1, 1,\n",
       "        1, 1, 1, 1, 1],\n",
       "       [1, 1, 1, 1, 1, 1, 1, 1, 1, 1, 1, 1, 1, 1, 1, 1, 1, 1, 1, 1, 1, 1,\n",
       "        1, 1, 1, 1, 1],\n",
       "       [1, 1, 1, 1, 1, 1, 1, 1, 1, 1, 1, 1, 1, 1, 1, 1, 1, 1, 1, 1, 1, 1,\n",
       "        1, 1, 1, 1, 1],\n",
       "       [1, 1, 1, 1, 1, 1, 1, 1, 1, 1, 1, 1, 1, 1, 1, 1, 1, 1, 1, 1, 1, 1,\n",
       "        1, 1, 1, 1, 1],\n",
       "       [1, 1, 1, 1, 1, 1, 1, 1, 1, 1, 1, 1, 1, 1, 1, 1, 1, 1, 1, 1, 1, 1,\n",
       "        1, 1, 1, 1, 1],\n",
       "       [1, 1, 1, 1, 1, 1, 1, 1, 1, 1, 1, 1, 1, 1, 1, 1, 1, 1, 1, 1, 1, 1,\n",
       "        1, 1, 1, 1, 1],\n",
       "       [1, 1, 1, 1, 1, 1, 1, 1, 1, 1, 1, 1, 1, 1, 1, 1, 1, 1, 1, 1, 1, 1,\n",
       "        1, 1, 1, 1, 1]])"
      ]
     },
     "execution_count": 123,
     "metadata": {},
     "output_type": "execute_result"
    }
   ],
   "source": [
    "model.wave.sum(axis=0)"
   ]
  },
  {
   "cell_type": "code",
   "execution_count": 388,
   "metadata": {
    "collapsed": false
   },
   "outputs": [],
   "source": [
    "arr = np.array(arr)\n",
    "skimage.external.tifffile.imsave('Platformer_run.tif', arr.astype(np.float32))"
   ]
  },
  {
   "cell_type": "code",
   "execution_count": null,
   "metadata": {
    "collapsed": true
   },
   "outputs": [],
   "source": []
  },
  {
   "cell_type": "code",
   "execution_count": 118,
   "metadata": {
    "collapsed": false,
    "scrolled": true
   },
   "outputs": [
    {
     "name": "stdout",
     "output_type": "stream",
     "text": [
      "Cast float64 to float32\n",
      "Cast int64 to int16 without loss\n"
     ]
    }
   ],
   "source": [
    "show(model.get_superposition(), 'superposition')\n",
    "# show(model.get_entropy(), 'entropy')\n",
    "show(model.wave.sum(axis=0), 'wavesum')\n",
    "# show(model.initial, 'initial')"
   ]
  }
 ],
 "metadata": {
  "kernelspec": {
   "display_name": "Python 2",
   "language": "python",
   "name": "python2"
  },
  "language_info": {
   "codemirror_mode": {
    "name": "ipython",
    "version": 2
   },
   "file_extension": ".py",
   "mimetype": "text/x-python",
   "name": "python",
   "nbconvert_exporter": "python",
   "pygments_lexer": "ipython2",
   "version": "2.7.9"
  }
 },
 "nbformat": 4,
 "nbformat_minor": 0
}
