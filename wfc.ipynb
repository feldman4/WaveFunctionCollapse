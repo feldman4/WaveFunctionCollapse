{
 "cells": [
  {
   "cell_type": "code",
   "execution_count": 1,
   "metadata": {
    "collapsed": false,
    "scrolled": true
   },
   "outputs": [],
   "source": [
    "import wfc\n",
    "from wfc import *\n",
    "%load_ext autoreload\n",
    "%load_ext line_profiler\n",
    "%autoreload 2"
   ]
  },
  {
   "cell_type": "code",
   "execution_count": 8,
   "metadata": {
    "collapsed": false
   },
   "outputs": [],
   "source": [
    "from lasagna.imports import *\n",
    "import lasagna.io\n",
    "j = lasagna.config.j = start_client()\n",
    "dr = ((0, 1),)*100\n",
    "def show(*args, **kwargs):\n",
    "    lasagna.io.show_IJ(*args, display_ranges=dr, **kwargs)"
   ]
  },
  {
   "cell_type": "code",
   "execution_count": 62,
   "metadata": {
    "collapsed": false,
    "scrolled": false
   },
   "outputs": [
    {
     "name": "stdout",
     "output_type": "stream",
     "text": [
      "initial has 52 unique tiles\n"
     ]
    }
   ],
   "source": [
    "N = 3\n",
    "FMX = 20\n",
    "FMY = 20\n",
    "\n",
    "a = (1, 0, 1)\n",
    "b = (0, 1, 0)\n",
    "c = (1, 1, 1)\n",
    "d = (0, 0, 0)\n",
    "\n",
    "T = rotate((c,b,b), 4)\n",
    "X = rotate((a,b,a), 1)\n",
    "I = rotate((c,b,c), 2)\n",
    "\n",
    "initial = [(a,b,a), (b,a,b)]\n",
    "# initial = T\n",
    "\n",
    "filename = 'samples/Dungeon.png'\n",
    "initial = initial_from_png(filename, N)\n",
    "# exclude = [((0, 0, 1), (1, 1, 1), (1, 1, 1)),\n",
    "#            ((0, 1, 1), (0, 1, 1), (1, 1, 1)),\n",
    "#            ((1, 1, 1), (1, 1, 0), (1, 1, 0)),\n",
    "#            ((1, 1, 1), (1, 1, 1), (1, 0, 0))]\n",
    "# initial = [x for x in initial if x not in exclude]\n",
    "\n",
    "model = SimpleTiledModel(N,FMX,FMY,initial, periodic=True)\n",
    "print 'initial has %d unique tiles' % len(model.initial)\n",
    "arr = []\n",
    "np.random.seed(2)"
   ]
  },
  {
   "cell_type": "code",
   "execution_count": 66,
   "metadata": {
    "collapsed": false
   },
   "outputs": [],
   "source": [
    "model = reset(seed=1)\n",
    "%lprun -f model.update model.complete(support=True)"
   ]
  },
  {
   "cell_type": "code",
   "execution_count": 59,
   "metadata": {
    "collapsed": false
   },
   "outputs": [
    {
     "name": "stdout",
     "output_type": "stream",
     "text": [
      "Cast float64 to float32\n"
     ]
    }
   ],
   "source": [
    "arr = []\n",
    "for seed in range(30):\n",
    "    model = reset(seed=seed)\n",
    "    try:\n",
    "        model.complete(support=False)\n",
    "        arr += [model.get_superposition()]\n",
    "    except AssertionError:\n",
    "        pass\n",
    "show(arr, 'randos')"
   ]
  },
  {
   "cell_type": "code",
   "execution_count": 11,
   "metadata": {
    "collapsed": true
   },
   "outputs": [],
   "source": [
    "def reset(seed=0):\n",
    "    np.random.seed(seed)\n",
    "    wfc.ticker[0] = seed\n",
    "    return SimpleTiledModel(N,FMX,FMY,initial, periodic=True)"
   ]
  },
  {
   "cell_type": "code",
   "execution_count": 55,
   "metadata": {
    "collapsed": true
   },
   "outputs": [
    {
     "name": "stdout",
     "output_type": "stream",
     "text": [
      "collapsed (0, 0)\n",
      "collapsed (0, 1)\n",
      "collapsed (0, 2)\n",
      "collapsed (1, 1)\n",
      "collapsed (2, 1)\n",
      "collapsed (2, 0)\n",
      "collapsed (3, 0)\n",
      "collapsed (2, 3)\n",
      "collapsed (0, 4)\n",
      "collapsed (1, 5)\n",
      "collapsed (0, 5)\n",
      "collapsed (1, 6)\n",
      "collapsed (4, 5)\n",
      "collapsed (0, 7)\n",
      "collapsed (0, 8)\n",
      "collapsed (5, 7)\n",
      "collapsed (1, 10)\n",
      "collapsed (0, 10)\n",
      "collapsed (1, 11)\n",
      "collapsed (0, 11)\n",
      "collapsed (2, 11)\n",
      "collapsed (3, 10)\n",
      "collapsed (1, 12)\n",
      "collapsed (0, 12)\n",
      "collapsed (1, 13)\n",
      "collapsed (0, 13)\n",
      "collapsed (2, 13)\n",
      "collapsed (3, 12)\n",
      "collapsed (4, 9)\n",
      "collapsed (5, 9)\n",
      "collapsed (3, 14)\n",
      "collapsed (4, 14)\n",
      "collapsed (0, 14)\n",
      "collapsed (1, 15)\n",
      "collapsed (0, 16)\n",
      "collapsed (1, 16)\n",
      "collapsed (2, 15)\n",
      "collapsed (4, 15)\n",
      "collapsed (0, 17)\n",
      "collapsed (28, 15)\n",
      "collapsed (29, 16)\n",
      "collapsed (0, 18)\n",
      "collapsed (1, 18)\n",
      "collapsed (2, 18)\n",
      "collapsed (29, 18)\n",
      "collapsed (0, 20)\n",
      "collapsed (4, 29)\n",
      "collapsed (29, 19)\n",
      "collapsed (1, 20)\n",
      "collapsed (2, 21)\n",
      "collapsed (0, 22)\n",
      "collapsed (0, 28)\n",
      "collapsed (0, 29)\n",
      "collapsed (1, 22)\n",
      "collapsed (1, 28)\n",
      "collapsed (1, 29)\n",
      "collapsed (2, 29)\n",
      "collapsed (3, 18)\n",
      "collapsed (3, 25)\n",
      "collapsed (3, 29)\n",
      "collapsed (4, 17)\n",
      "collapsed (4, 28)\n",
      "collapsed (5, 17)\n",
      "collapsed (26, 15)\n",
      "collapsed (27, 14)\n",
      "collapsed (27, 15)\n",
      "collapsed (29, 20)\n",
      "collapsed (29, 21)\n",
      "collapsed (4, 20)\n",
      "collapsed (4, 22)\n",
      "collapsed (5, 23)\n",
      "collapsed (6, 19)\n",
      "collapsed (8, 19)\n",
      "collapsed (5, 3)\n",
      "collapsed (5, 2)\n",
      "collapsed (5, 0)\n",
      "collapsed (5, 1)\n",
      "collapsed (5, 29)\n",
      "collapsed (5, 13)\n",
      "collapsed (5, 15)\n",
      "collapsed (6, 16)\n",
      "collapsed (6, 29)\n",
      "collapsed (7, 28)\n",
      "collapsed (8, 28)\n",
      "collapsed (6, 22)\n",
      "collapsed (6, 24)\n",
      "collapsed (7, 25)\n",
      "collapsed (8, 21)\n",
      "collapsed (10, 21)\n",
      "collapsed (7, 1)\n",
      "collapsed (7, 2)\n",
      "collapsed (8, 1)\n",
      "collapsed (9, 0)\n",
      "collapsed (7, 4)\n",
      "collapsed (7, 5)\n",
      "collapsed (7, 6)\n",
      "collapsed (7, 7)\n",
      "collapsed (7, 8)\n",
      "collapsed (7, 9)\n",
      "collapsed (7, 11)\n",
      "collapsed (7, 12)\n",
      "collapsed (7, 13)\n",
      "collapsed (7, 14)\n",
      "collapsed (7, 15)\n",
      "collapsed (7, 17)\n",
      "collapsed (8, 11)\n",
      "collapsed (8, 18)\n",
      "collapsed (8, 4)\n",
      "collapsed (8, 9)\n",
      "collapsed (9, 3)\n",
      "collapsed (9, 10)\n",
      "collapsed (10, 11)\n",
      "collapsed (8, 24)\n",
      "collapsed (8, 26)\n",
      "collapsed (9, 27)\n",
      "collapsed (10, 23)\n",
      "collapsed (12, 23)\n",
      "collapsed (9, 13)\n",
      "collapsed (9, 14)\n",
      "collapsed (9, 15)\n",
      "collapsed (10, 13)\n",
      "collapsed (11, 12)\n",
      "collapsed (12, 12)\n",
      "collapsed (9, 17)\n",
      "collapsed (9, 19)\n",
      "collapsed (10, 20)\n",
      "collapsed (11, 16)\n",
      "collapsed (13, 16)\n",
      "collapsed (10, 5)\n",
      "collapsed (10, 8)\n",
      "collapsed (11, 9)\n",
      "collapsed (12, 10)\n",
      "collapsed (13, 11)\n",
      "collapsed (10, 26)\n",
      "collapsed (10, 28)\n",
      "collapsed (11, 0)\n",
      "collapsed (11, 5)\n",
      "collapsed (11, 28)\n",
      "collapsed (12, 6)\n",
      "collapsed (13, 7)\n",
      "collapsed (14, 16)\n",
      "collapsed (15, 17)\n",
      "collapsed (11, 19)\n",
      "collapsed (11, 21)\n",
      "collapsed (12, 22)\n",
      "collapsed (13, 23)\n",
      "collapsed (14, 24)\n",
      "collapsed (12, 0)\n",
      "collapsed (12, 1)\n",
      "collapsed (12, 3)\n",
      "collapsed (13, 3)\n",
      "collapsed (12, 25)\n",
      "collapsed (12, 27)\n",
      "collapsed (13, 28)\n",
      "collapsed (14, 25)\n",
      "collapsed (15, 25)\n",
      "collapsed (13, 18)\n",
      "collapsed (13, 20)\n",
      "collapsed (14, 21)\n",
      "collapsed (15, 18)\n",
      "collapsed (15, 22)\n",
      "collapsed (16, 23)\n",
      "collapsed (17, 24)\n",
      "collapsed (18, 25)\n",
      "collapsed (14, 0)\n",
      "collapsed (14, 27)\n",
      "collapsed (15, 27)\n",
      "collapsed (16, 0)\n",
      "collapsed (16, 1)\n",
      "collapsed (16, 2)\n",
      "collapsed (16, 27)\n",
      "collapsed (14, 4)\n",
      "collapsed (14, 8)\n",
      "collapsed (15, 9)\n",
      "collapsed (16, 4)\n",
      "collapsed (14, 11)\n",
      "collapsed (14, 12)\n",
      "collapsed (14, 13)\n",
      "collapsed (14, 15)\n",
      "collapsed (15, 11)\n",
      "collapsed (15, 16)\n",
      "collapsed (16, 6)\n",
      "collapsed (18, 6)\n",
      "collapsed (16, 8)\n",
      "collapsed (16, 10)\n",
      "collapsed (17, 11)\n",
      "collapsed (18, 8)\n",
      "collapsed (16, 13)\n",
      "collapsed (16, 15)\n",
      "collapsed (17, 13)\n",
      "collapsed (18, 12)\n",
      "collapsed (19, 10)\n",
      "collapsed (19, 12)\n",
      "collapsed (20, 11)\n",
      "collapsed (20, 12)\n",
      "collapsed (24, 14)\n",
      "collapsed (16, 17)\n",
      "collapsed (16, 19)\n",
      "collapsed (17, 16)\n",
      "collapsed (17, 20)\n",
      "collapsed (18, 15)\n",
      "collapsed (18, 21)\n",
      "collapsed (19, 22)\n",
      "collapsed (20, 23)\n",
      "collapsed (21, 15)\n",
      "collapsed (21, 24)\n",
      "collapsed (23, 22)\n",
      "collapsed (24, 23)\n",
      "collapsed (25, 24)\n",
      "collapsed (26, 25)\n",
      "collapsed (27, 26)\n",
      "collapsed (28, 27)\n",
      "collapsed (29, 28)\n",
      "collapsed (29, 29)\n",
      "collapsed (17, 4)\n",
      "collapsed (18, 5)\n",
      "collapsed (17, 2)\n",
      "collapsed (18, 2)\n",
      "collapsed (17, 0)\n",
      "collapsed (18, 0)\n",
      "collapsed (17, 27)\n",
      "collapsed (17, 29)\n",
      "collapsed (18, 29)\n",
      "collapsed (19, 26)\n",
      "collapsed (21, 26)\n",
      "collapsed (21, 29)\n",
      "collapsed (22, 0)\n",
      "collapsed (23, 1)\n",
      "collapsed (19, 1)\n",
      "collapsed (19, 3)\n",
      "collapsed (20, 4)\n",
      "collapsed (21, 1)\n",
      "collapsed (22, 2)\n",
      "collapsed (19, 6)\n",
      "collapsed (19, 7)\n",
      "collapsed (19, 9)\n",
      "collapsed (20, 6)\n",
      "collapsed (20, 10)\n",
      "collapsed (20, 16)\n",
      "collapsed (20, 18)\n",
      "collapsed (21, 19)\n",
      "collapsed (22, 16)\n",
      "collapsed (23, 15)\n",
      "collapsed (24, 15)\n",
      "collapsed (25, 15)\n",
      "collapsed (26, 16)\n",
      "collapsed (21, 3)\n",
      "collapsed (21, 5)\n",
      "collapsed (22, 6)\n",
      "collapsed (23, 3)\n",
      "collapsed (26, 7)\n",
      "collapsed (21, 8)\n",
      "collapsed (21, 9)\n",
      "collapsed (21, 11)\n",
      "collapsed (22, 8)\n",
      "collapsed (22, 12)\n",
      "collapsed (22, 29)\n",
      "collapsed (23, 0)\n",
      "collapsed (23, 7)\n",
      "collapsed (24, 1)\n",
      "collapsed (24, 2)\n",
      "collapsed (24, 4)\n",
      "collapsed (25, 5)\n",
      "collapsed (25, 7)\n",
      "collapsed (26, 6)\n",
      "collapsed (27, 13)\n",
      "collapsed (28, 13)\n",
      "collapsed (29, 6)\n",
      "collapsed (29, 7)\n",
      "collapsed (29, 8)\n",
      "collapsed (29, 9)\n",
      "collapsed (29, 10)\n",
      "collapsed (29, 11)\n",
      "collapsed (29, 12)\n",
      "collapsed (29, 13)\n",
      "collapsed (22, 18)\n",
      "collapsed (22, 20)\n",
      "collapsed (23, 21)\n",
      "collapsed (24, 18)\n",
      "collapsed (24, 21)\n",
      "collapsed (25, 17)\n",
      "collapsed (25, 20)\n",
      "collapsed (25, 21)\n",
      "collapsed (26, 17)\n",
      "collapsed (26, 20)\n",
      "collapsed (27, 17)\n",
      "collapsed (27, 20)\n",
      "collapsed (28, 18)\n",
      "collapsed (28, 19)\n",
      "collapsed (28, 20)\n",
      "collapsed (22, 25)\n",
      "collapsed (22, 27)\n",
      "collapsed (23, 28)\n",
      "collapsed (24, 25)\n",
      "collapsed (25, 26)\n",
      "collapsed (23, 10)\n",
      "collapsed (23, 13)\n",
      "collapsed (24, 13)\n",
      "collapsed (25, 13)\n",
      "collapsed (26, 10)\n",
      "collapsed (26, 11)\n",
      "collapsed (26, 12)\n",
      "collapsed (26, 13)\n",
      "collapsed (24, 27)\n",
      "collapsed (24, 29)\n",
      "collapsed (25, 0)\n",
      "collapsed (26, 27)\n",
      "collapsed (27, 28)\n",
      "collapsed (26, 0)\n",
      "all points collapsed\n",
      "309\n"
     ]
    }
   ],
   "source": [
    "%lprun -f model.propagate_support do_it(support=True)"
   ]
  },
  {
   "cell_type": "code",
   "execution_count": 80,
   "metadata": {
    "collapsed": false
   },
   "outputs": [
    {
     "name": "stdout",
     "output_type": "stream",
     "text": [
      "44100\n",
      "collapsed (22, 24)\n",
      "40908\n"
     ]
    }
   ],
   "source": [
    "print model.wave.sum()\n",
    "model.update(support=True)\n",
    "print model.wave.sum()"
   ]
  },
  {
   "cell_type": "code",
   "execution_count": 107,
   "metadata": {
    "collapsed": false,
    "scrolled": false
   },
   "outputs": [],
   "source": [
    "arr = []\n",
    "def do_it(support=False, record=0):\n",
    "    global arr\n",
    "    for i in range(30000):\n",
    "        done = model.update(support=support)\n",
    "        if done:\n",
    "            break\n",
    "        if record and (i % record) == 0:\n",
    "            arr += [model.get_superposition()]\n",
    "    print i\n",
    "    return arr"
   ]
  },
  {
   "cell_type": "code",
   "execution_count": 61,
   "metadata": {
    "collapsed": false,
    "scrolled": false
   },
   "outputs": [
    {
     "name": "stdout",
     "output_type": "stream",
     "text": [
      "Cast float64 to float32\n"
     ]
    }
   ],
   "source": [
    "show(model.get_superposition(), 'superposition')\n",
    "# show(model.get_entropy(), 'entropy')\n",
    "# show(model.wave.sum(axis=0), 'wavesum')\n",
    "# show(model.initial, 'initial')"
   ]
  },
  {
   "cell_type": "code",
   "execution_count": 27,
   "metadata": {
    "collapsed": true
   },
   "outputs": [],
   "source": [
    "arr = np.array(arr)\n",
    "skimage.external.tifffile.imsave('deleteme.tif', arr.astype(np.float32))"
   ]
  },
  {
   "cell_type": "code",
   "execution_count": 86,
   "metadata": {
    "collapsed": true
   },
   "outputs": [],
   "source": [
    "model.wave = np.random.choice([True, False], p=[0.9,0.1], size=model.wave.shape)\n",
    "# model.wave[0,:,:] = True"
   ]
  },
  {
   "cell_type": "code",
   "execution_count": 89,
   "metadata": {
    "collapsed": false,
    "scrolled": false
   },
   "outputs": [
    {
     "name": "stdout",
     "output_type": "stream",
     "text": [
      "propagation modified 2808 points, touched 27036\n",
      "1 loop, best of 1: 2.56 s per loop\n"
     ]
    }
   ],
   "source": [
    "%timeit -n1 -r1 model.propagate_from(zip_where(model.wave.sum(axis=0)))"
   ]
  },
  {
   "cell_type": "code",
   "execution_count": 99,
   "metadata": {
    "collapsed": false
   },
   "outputs": [
    {
     "name": "stdout",
     "output_type": "stream",
     "text": [
      "propagation modified 0 points, touched 5512\n",
      " "
     ]
    }
   ],
   "source": [
    "%prun -s cumulative model.propagate_from(zip_where(model.wave.sum(axis=0)))"
   ]
  },
  {
   "cell_type": "code",
   "execution_count": 105,
   "metadata": {
    "collapsed": false,
    "scrolled": true
   },
   "outputs": [
    {
     "name": "stdout",
     "output_type": "stream",
     "text": [
      "Cast int64 to int16 without loss\n"
     ]
    }
   ],
   "source": [
    "import pyperclip\n",
    "show(eval(pyperclip.paste()))"
   ]
  }
 ],
 "metadata": {
  "kernelspec": {
   "display_name": "Python 2",
   "language": "python",
   "name": "python2"
  },
  "language_info": {
   "codemirror_mode": {
    "name": "ipython",
    "version": 2
   },
   "file_extension": ".py",
   "mimetype": "text/x-python",
   "name": "python",
   "nbconvert_exporter": "python",
   "pygments_lexer": "ipython2",
   "version": "2.7.9"
  }
 },
 "nbformat": 4,
 "nbformat_minor": 0
}
