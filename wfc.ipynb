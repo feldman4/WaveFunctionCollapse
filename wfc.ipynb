{
 "cells": [
  {
   "cell_type": "code",
   "execution_count": 1,
   "metadata": {
    "collapsed": false,
    "scrolled": true
   },
   "outputs": [
    {
     "name": "stdout",
     "output_type": "stream",
     "text": [
      "/Users/feldman/packages/WaveFunctionCollapse\n"
     ]
    }
   ],
   "source": [
    "cd ~/packages/WaveFunctionCollapse"
   ]
  },
  {
   "cell_type": "code",
   "execution_count": 2,
   "metadata": {
    "collapsed": false
   },
   "outputs": [],
   "source": [
    "import wfc\n",
    "from wfc import *\n",
    "%load_ext autoreload\n",
    "%autoreload 2"
   ]
  },
  {
   "cell_type": "code",
   "execution_count": 3,
   "metadata": {
    "collapsed": true
   },
   "outputs": [],
   "source": [
    "from lasagna.imports import *\n",
    "import lasagna.io\n",
    "j = lasagna.config.j = start_client()\n",
    "dr = ((0, 1),)*100\n",
    "def show(*args, **kwargs):\n",
    "    lasagna.io.show_IJ(*args, display_ranges=dr, **kwargs)"
   ]
  },
  {
   "cell_type": "code",
   "execution_count": 26,
   "metadata": {
    "collapsed": false
   },
   "outputs": [],
   "source": [
    "N = 3\n",
    "FMX = N*9\n",
    "FMY = N*4\n",
    "\n",
    "a = (1, 0, 1)\n",
    "b = (0, 1, 0)\n",
    "c = (1, 1, 1)\n",
    "d = (0, 0, 0)\n",
    "\n",
    "T = rotate((c,b,b), 4)\n",
    "X = rotate((a,b,a), 1)\n",
    "I = rotate((c,b,c), 2)\n",
    "\n",
    "\n",
    "initial = [(a,b,a), (b,a,b), (b,b,b), (a,a,a)]\n",
    "initial = T\n",
    "\n",
    "filename = 'samples/Platformer.png'\n",
    "initial = initial_from_png(filename, N);\n",
    "\n",
    "model = SimpleTiledModel(N,FMX,FMY,initial)\n",
    "arr = []"
   ]
  },
  {
   "cell_type": "code",
   "execution_count": 27,
   "metadata": {
    "collapsed": true
   },
   "outputs": [],
   "source": [
    "model.wave = np.random.choice([True, False], p=[0.9,0.1], size=model.wave.shape)\n",
    "# model.wave[0,:,:] = True"
   ]
  },
  {
   "cell_type": "code",
   "execution_count": 30,
   "metadata": {
    "collapsed": false,
    "scrolled": true
   },
   "outputs": [
    {
     "name": "stdout",
     "output_type": "stream",
     "text": [
      "propagation modified 0 points\n",
      "1 loop, best of 1: 688 ms per loop\n"
     ]
    }
   ],
   "source": [
    "%timeit -n1 -r1 model.propagate_from(zip_where(model.wave.sum(axis=0)))"
   ]
  },
  {
   "cell_type": "code",
   "execution_count": 29,
   "metadata": {
    "collapsed": false
   },
   "outputs": [
    {
     "name": "stdout",
     "output_type": "stream",
     "text": [
      "propagation modified 0 points\n",
      " "
     ]
    }
   ],
   "source": [
    "%prun model.propagate_from(zip_where(model.wave.sum(axis=0)))"
   ]
  },
  {
   "cell_type": "code",
   "execution_count": 21,
   "metadata": {
    "collapsed": false
   },
   "outputs": [
    {
     "data": {
      "text/plain": [
       "(array([ 6, 54, 56, 60, 66, 67, 70, 81, 83, 97]),)"
      ]
     },
     "execution_count": 21,
     "metadata": {},
     "output_type": "execute_result"
    }
   ],
   "source": [
    "np.where(model.wave[:,3,4])"
   ]
  },
  {
   "cell_type": "code",
   "execution_count": 7,
   "metadata": {
    "collapsed": true
   },
   "outputs": [
    {
     "data": {
      "text/plain": [
       "array([[51, 47, 43, 50, 39, 37, 39, 35, 41, 39, 31, 35, 39, 35, 39, 38, 37,\n",
       "        39, 38, 41, 35, 30, 26, 29, 35, 45, 48],\n",
       "       [38, 35, 33, 33, 33, 30, 37, 34, 39, 32, 29, 36, 39, 30, 33, 30, 29,\n",
       "        27, 30, 33, 31, 35, 29, 28, 40, 46, 47],\n",
       "       [21, 19, 20, 23, 28, 32, 35, 30, 34, 31, 30, 40, 37, 29, 32, 24, 22,\n",
       "        17, 23, 23, 26, 35, 27, 28, 40, 46, 46],\n",
       "       [18, 14, 14, 17, 17, 20, 25, 18, 21, 26, 27, 32, 24, 21, 17, 13, 11,\n",
       "        10, 15, 13, 17, 26, 25, 30, 41, 48, 44],\n",
       "       [18, 17, 18, 18, 15, 11, 16, 16, 17, 19, 16, 19, 16, 14, 10,  9,  6,\n",
       "         6, 10,  9, 14, 18, 20, 24, 34, 36, 40],\n",
       "       [19, 15, 16, 15, 14, 10, 12, 12, 12, 14, 12, 13, 12,  9,  8,  8,  7,\n",
       "         5,  8, 10, 13, 12, 13, 13, 22, 25, 34],\n",
       "       [17, 14, 16, 14, 11,  8, 11, 13, 12, 11,  8,  9,  8,  6,  7,  7,  7,\n",
       "         4,  6,  9, 12, 13, 15, 14, 18, 19, 26],\n",
       "       [19, 16, 18, 18, 16, 10, 12, 15, 13, 15, 13,  9,  8,  7,  9, 10,  8,\n",
       "         6,  7,  8,  9, 14, 16, 13, 17, 17, 23],\n",
       "       [20, 15, 18, 24, 23, 18, 18, 20, 16, 16, 15, 11, 11, 10, 11, 13, 11,\n",
       "         9,  8,  9, 11, 17, 18, 16, 20, 18, 23],\n",
       "       [25, 21, 22, 28, 31, 22, 22, 20, 16, 14, 12, 10, 12, 16, 20, 21, 16,\n",
       "        13, 10, 11, 12, 19, 18, 16, 18, 19, 25],\n",
       "       [29, 28, 32, 33, 33, 23, 26, 24, 18, 16, 13, 13, 16, 22, 26, 26, 26,\n",
       "        20, 14, 16, 14, 23, 22, 21, 22, 25, 29],\n",
       "       [34, 31, 32, 31, 33, 26, 27, 26, 26, 23, 15, 19, 18, 28, 35, 33, 37,\n",
       "        30, 19, 22, 19, 28, 29, 25, 24, 30, 36]])"
      ]
     },
     "execution_count": 7,
     "metadata": {},
     "output_type": "execute_result"
    }
   ],
   "source": [
    "model.wave.sum(axis=0)"
   ]
  },
  {
   "cell_type": "code",
   "execution_count": 383,
   "metadata": {
    "collapsed": false
   },
   "outputs": [
    {
     "name": "stdout",
     "output_type": "stream",
     "text": [
      "collapsed (4, 25)\n",
      "collapsed (3, 25)\n",
      "collapsed (2, 25)\n",
      "collapsed (1, 25)\n",
      "collapsed (0, 25)\n",
      "collapsed (2, 24)\n",
      "collapsed (1, 22)\n",
      "collapsed (3, 24)\n",
      "collapsed (2, 20)\n",
      "collapsed (5, 24)\n",
      "collapsed (4, 15)\n",
      "collapsed (4, 13)\n",
      "collapsed (2, 16)\n",
      "collapsed (5, 25)\n",
      "collapsed (1, 15)\n",
      "collapsed (4, 16)\n",
      "collapsed (9, 11)\n",
      "collapsed (4, 12)\n",
      "collapsed (6, 19)\n",
      "collapsed (2, 6)\n",
      "collapsed (3, 1)\n",
      "collapsed (11, 11)\n",
      "collapsed (8, 19)\n",
      "collapsed (7, 21)\n",
      "collapsed (9, 17)\n",
      "collapsed (1, 8)\n",
      "collapsed (0, 7)\n",
      "collapsed (11, 0)\n",
      "collapsed (2, 1)\n",
      "collapsed (4, 2)\n",
      "collapsed (9, 19)\n",
      "collapsed (0, 15)\n",
      "collapsed (11, 24)\n",
      "collapsed (3, 2)\n",
      "collapsed (9, 25)\n",
      "collapsed (0, 17)\n",
      "collapsed (0, 24)\n",
      "collapsed (0, 22)\n",
      "collapsed (0, 18)\n",
      "collapsed (8, 26)\n",
      "collapsed (6, 26)\n",
      "collapsed (4, 26)\n",
      "collapsed (1, 1)\n",
      "collapsed (0, 1)\n",
      "collapsed (1, 26)\n",
      "collapsed (0, 5)\n",
      "collapsed (0, 3)\n",
      "collapsed (0, 26)\n",
      "all points collapsed\n",
      "48\n"
     ]
    }
   ],
   "source": [
    "for i in range(200):\n",
    "    done = model.update()\n",
    "    if done:\n",
    "        break\n",
    "    arr += [model.get_superposition()]\n",
    "print i"
   ]
  },
  {
   "cell_type": "code",
   "execution_count": 384,
   "metadata": {
    "collapsed": false
   },
   "outputs": [
    {
     "data": {
      "text/plain": [
       "array([[1, 1, 1, 1, 1, 1, 1, 1, 1, 1, 1, 1, 1, 1, 1, 1, 1, 1, 1, 1, 1, 1,\n",
       "        1, 1, 1, 1, 1],\n",
       "       [1, 1, 1, 1, 1, 1, 1, 1, 1, 1, 1, 1, 1, 1, 1, 1, 1, 1, 1, 1, 1, 1,\n",
       "        1, 1, 1, 1, 1],\n",
       "       [1, 1, 1, 1, 1, 1, 1, 1, 1, 1, 1, 1, 1, 1, 1, 1, 1, 1, 1, 1, 1, 1,\n",
       "        1, 1, 1, 1, 1],\n",
       "       [1, 1, 1, 1, 1, 1, 1, 1, 1, 1, 1, 1, 1, 1, 1, 1, 1, 1, 1, 1, 1, 1,\n",
       "        1, 1, 1, 1, 1],\n",
       "       [1, 1, 1, 1, 1, 1, 1, 1, 1, 1, 1, 1, 1, 1, 1, 1, 1, 1, 1, 1, 1, 1,\n",
       "        1, 1, 1, 1, 1],\n",
       "       [1, 1, 1, 1, 1, 1, 1, 1, 1, 1, 1, 1, 1, 1, 1, 1, 1, 1, 1, 1, 1, 1,\n",
       "        1, 1, 1, 1, 1],\n",
       "       [1, 1, 1, 1, 1, 1, 1, 1, 1, 1, 1, 1, 1, 1, 1, 1, 1, 1, 1, 1, 1, 1,\n",
       "        1, 1, 1, 1, 1],\n",
       "       [1, 1, 1, 1, 1, 1, 1, 1, 1, 1, 1, 1, 1, 1, 1, 1, 1, 1, 1, 1, 1, 1,\n",
       "        1, 1, 1, 1, 1],\n",
       "       [1, 1, 1, 1, 1, 1, 1, 1, 1, 1, 1, 1, 1, 1, 1, 1, 1, 1, 1, 1, 1, 1,\n",
       "        1, 1, 1, 1, 1],\n",
       "       [1, 1, 1, 1, 1, 1, 1, 1, 1, 1, 1, 1, 1, 1, 1, 1, 1, 1, 1, 1, 1, 1,\n",
       "        1, 1, 1, 1, 1],\n",
       "       [1, 1, 1, 1, 1, 1, 1, 1, 1, 1, 1, 1, 1, 1, 1, 1, 1, 1, 1, 1, 1, 1,\n",
       "        1, 1, 1, 1, 1],\n",
       "       [1, 1, 1, 1, 1, 1, 1, 1, 1, 1, 1, 1, 1, 1, 1, 1, 1, 1, 1, 1, 1, 1,\n",
       "        1, 1, 1, 1, 1]])"
      ]
     },
     "execution_count": 384,
     "metadata": {},
     "output_type": "execute_result"
    }
   ],
   "source": [
    "model.wave.sum(axis=0)"
   ]
  },
  {
   "cell_type": "code",
   "execution_count": 388,
   "metadata": {
    "collapsed": false
   },
   "outputs": [],
   "source": [
    "arr = np.array(arr)\n",
    "skimage.external.tifffile.imsave('Platformer_run.tif', arr.astype(np.float32))"
   ]
  },
  {
   "cell_type": "code",
   "execution_count": null,
   "metadata": {
    "collapsed": true
   },
   "outputs": [],
   "source": []
  },
  {
   "cell_type": "code",
   "execution_count": 386,
   "metadata": {
    "collapsed": false,
    "scrolled": true
   },
   "outputs": [
    {
     "name": "stdout",
     "output_type": "stream",
     "text": [
      "Cast float64 to float32\n"
     ]
    }
   ],
   "source": [
    "show(model.get_superposition(), 'superposition')\n",
    "# show(model.get_entropy(), 'entropy')\n",
    "# show(model.wave.sum(axis=0), 'wavesum')\n",
    "# show(model.initial, 'initial')"
   ]
  }
 ],
 "metadata": {
  "kernelspec": {
   "display_name": "Python 2",
   "language": "python",
   "name": "python2"
  },
  "language_info": {
   "codemirror_mode": {
    "name": "ipython",
    "version": 2
   },
   "file_extension": ".py",
   "mimetype": "text/x-python",
   "name": "python",
   "nbconvert_exporter": "python",
   "pygments_lexer": "ipython2",
   "version": "2.7.9"
  }
 },
 "nbformat": 4,
 "nbformat_minor": 0
}
